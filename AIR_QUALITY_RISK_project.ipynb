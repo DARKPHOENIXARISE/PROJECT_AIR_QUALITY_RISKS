{
 "cells": [
  {
   "cell_type": "markdown",
   "id": "e8eca7e1-c872-4b69-97de-80cb05c8b4db",
   "metadata": {},
   "source": [
    "## PROJECT TITLE"
   ]
  },
  {
   "cell_type": "markdown",
   "id": "3490e28b-06cd-464a-be77-922b483e801b",
   "metadata": {},
   "source": [
    "Air Quality & Climate Health Risk Prediction using Machine Learning"
   ]
  },
  {
   "cell_type": "markdown",
   "id": "a0cbe6f9-945f-4d29-b42c-7ac4cc98e1f6",
   "metadata": {},
   "source": [
    "## PROBLEM STATEMENT"
   ]
  },
  {
   "cell_type": "markdown",
   "id": "e71b00f3-f671-4679-8051-d1b8fefd76e5",
   "metadata": {},
   "source": [
    "Air pollution has become a critical climate-related risk, especially in rapidly urbanizing regions of India. Poor air quality leads to respiratory and cardiovascular diseases and, during extreme pollution events (smog, wildfires, stagnant heat), it can escalate into a public health disaster."
   ]
  },
  {
   "cell_type": "markdown",
   "id": "98bd5f27-fb30-4402-8644-2830172e392d",
   "metadata": {},
   "source": [
    "## PROJECT STATEMENT"
   ]
  },
  {
   "cell_type": "markdown",
   "id": "824d5c6e-d485-4b11-a92d-37709e01c2e0",
   "metadata": {},
   "source": [
    "This project uses the Air Quality Data in India (2015–2020) dataset from Kaggle to design a machine learning–based early warning system. It aims to predict air pollution peaks and assess climate-related health risks."
   ]
  },
  {
   "cell_type": "code",
   "execution_count": 7,
   "id": "f3f26da0-7aac-4ef3-8220-be23638f944c",
   "metadata": {},
   "outputs": [],
   "source": [
    "# IMPORTINGG NECESSARY LIBRARIES[WEEK 1]\n",
    "import pandas as pd\n",
    "import numpy as np\n",
    "import matplotlib.pyplot as plt\n",
    "import seaborn as sns\n",
    "\n",
    "from sklearn.model_selection import train_test_split\n",
    "from sklearn.preprocessing import StandardScaler\n",
    "from sklearn.metrics import mean_squared_error, r2_score"
   ]
  },
  {
   "cell_type": "code",
   "execution_count": 8,
   "id": "3a2e84ee-983b-4d0f-a2ab-3db1ae541369",
   "metadata": {},
   "outputs": [
    {
     "name": "stdout",
     "output_type": "stream",
     "text": [
      "        City        Date  PM2.5  PM10      NO    NO2     NOx  NH3      CO  \\\n",
      "0  Ahmedabad  2015-01-01    NaN   NaN    0.92  18.22   17.15  NaN    0.92   \n",
      "1  Ahmedabad  2015-01-02    NaN   NaN    0.97  15.69   16.46  NaN    0.97   \n",
      "2  Ahmedabad  2015-01-03    NaN   NaN   17.40  19.30   29.70  NaN   17.40   \n",
      "3  Ahmedabad  2015-01-04    NaN   NaN    1.70  18.48   17.97  NaN    1.70   \n",
      "4  Ahmedabad  2015-01-05    NaN   NaN   22.10  21.42   37.76  NaN   22.10   \n",
      "5  Ahmedabad  2015-01-06    NaN   NaN   45.41  38.48   81.50  NaN   45.41   \n",
      "6  Ahmedabad  2015-01-07    NaN   NaN  112.16  40.62  130.77  NaN  112.16   \n",
      "7  Ahmedabad  2015-01-08    NaN   NaN   80.87  36.74   96.75  NaN   80.87   \n",
      "8  Ahmedabad  2015-01-09    NaN   NaN   29.16  31.00   48.00  NaN   29.16   \n",
      "9  Ahmedabad  2015-01-10    NaN   NaN     NaN   7.04    0.00  NaN     NaN   \n",
      "\n",
      "     SO2      O3  Benzene  Toluene  Xylene  AQI AQI_Bucket  \n",
      "0  27.64  133.36     0.00     0.02    0.00  NaN        NaN  \n",
      "1  24.55   34.06     3.68     5.50    3.77  NaN        NaN  \n",
      "2  29.07   30.70     6.80    16.40    2.25  NaN        NaN  \n",
      "3  18.59   36.08     4.43    10.14    1.00  NaN        NaN  \n",
      "4  39.33   39.31     7.01    18.89    2.78  NaN        NaN  \n",
      "5  45.76   46.51     5.42    10.83    1.93  NaN        NaN  \n",
      "6  32.28   33.47     0.00     0.00    0.00  NaN        NaN  \n",
      "7  38.54   31.89     0.00     0.00    0.00  NaN        NaN  \n",
      "8  58.68   25.75     0.00     0.00    0.00  NaN        NaN  \n",
      "9   8.29    4.55     0.00     0.00    0.00  NaN        NaN  \n"
     ]
    }
   ],
   "source": [
    "# LOADING THE DATASET\n",
    "df = pd.read_csv('city_day.csv')\n",
    "\n",
    "# DISPLAYING FIRST 10 ROWS\n",
    "print(df.head(10))"
   ]
  },
  {
   "cell_type": "code",
   "execution_count": 9,
   "id": "63031d9c-8990-43fd-9892-3a8e9ba39dc0",
   "metadata": {},
   "outputs": [
    {
     "name": "stdout",
     "output_type": "stream",
     "text": [
      "<class 'pandas.core.frame.DataFrame'>\n",
      "RangeIndex: 29531 entries, 0 to 29530\n",
      "Data columns (total 16 columns):\n",
      " #   Column      Non-Null Count  Dtype  \n",
      "---  ------      --------------  -----  \n",
      " 0   City        29531 non-null  object \n",
      " 1   Date        29531 non-null  object \n",
      " 2   PM2.5       24933 non-null  float64\n",
      " 3   PM10        18391 non-null  float64\n",
      " 4   NO          25949 non-null  float64\n",
      " 5   NO2         25946 non-null  float64\n",
      " 6   NOx         25346 non-null  float64\n",
      " 7   NH3         19203 non-null  float64\n",
      " 8   CO          27472 non-null  float64\n",
      " 9   SO2         25677 non-null  float64\n",
      " 10  O3          25509 non-null  float64\n",
      " 11  Benzene     23908 non-null  float64\n",
      " 12  Toluene     21490 non-null  float64\n",
      " 13  Xylene      11422 non-null  float64\n",
      " 14  AQI         24850 non-null  float64\n",
      " 15  AQI_Bucket  24850 non-null  object \n",
      "dtypes: float64(13), object(3)\n",
      "memory usage: 3.6+ MB\n",
      "None\n",
      "              PM2.5          PM10            NO           NO2           NOx  \\\n",
      "count  24933.000000  18391.000000  25949.000000  25946.000000  25346.000000   \n",
      "mean      67.450578    118.127103     17.574730     28.560659     32.309123   \n",
      "std       64.661449     90.605110     22.785846     24.474746     31.646011   \n",
      "min        0.040000      0.010000      0.020000      0.010000      0.000000   \n",
      "25%       28.820000     56.255000      5.630000     11.750000     12.820000   \n",
      "50%       48.570000     95.680000      9.890000     21.690000     23.520000   \n",
      "75%       80.590000    149.745000     19.950000     37.620000     40.127500   \n",
      "max      949.990000   1000.000000    390.680000    362.210000    467.630000   \n",
      "\n",
      "                NH3            CO           SO2            O3       Benzene  \\\n",
      "count  19203.000000  27472.000000  25677.000000  25509.000000  23908.000000   \n",
      "mean      23.483476      2.248598     14.531977     34.491430      3.280840   \n",
      "std       25.684275      6.962884     18.133775     21.694928     15.811136   \n",
      "min        0.010000      0.000000      0.010000      0.010000      0.000000   \n",
      "25%        8.580000      0.510000      5.670000     18.860000      0.120000   \n",
      "50%       15.850000      0.890000      9.160000     30.840000      1.070000   \n",
      "75%       30.020000      1.450000     15.220000     45.570000      3.080000   \n",
      "max      352.890000    175.810000    193.860000    257.730000    455.030000   \n",
      "\n",
      "            Toluene        Xylene           AQI  \n",
      "count  21490.000000  11422.000000  24850.000000  \n",
      "mean       8.700972      3.070128    166.463581  \n",
      "std       19.969164      6.323247    140.696585  \n",
      "min        0.000000      0.000000     13.000000  \n",
      "25%        0.600000      0.140000     81.000000  \n",
      "50%        2.970000      0.980000    118.000000  \n",
      "75%        9.150000      3.350000    208.000000  \n",
      "max      454.850000    170.370000   2049.000000  \n",
      "City              0\n",
      "Date              0\n",
      "PM2.5          4598\n",
      "PM10          11140\n",
      "NO             3582\n",
      "NO2            3585\n",
      "NOx            4185\n",
      "NH3           10328\n",
      "CO             2059\n",
      "SO2            3854\n",
      "O3             4022\n",
      "Benzene        5623\n",
      "Toluene        8041\n",
      "Xylene        18109\n",
      "AQI            4681\n",
      "AQI_Bucket     4681\n",
      "dtype: int64\n"
     ]
    }
   ],
   "source": [
    "# BASIC INFORMATION\n",
    "print(df.info())\n",
    "print(df.describe())\n",
    "print(df.isnull().sum())"
   ]
  },
  {
   "cell_type": "code",
   "execution_count": null,
   "id": "594630f8-389c-42ef-9bc0-051267645cf3",
   "metadata": {},
   "outputs": [],
   "source": []
  }
 ],
 "metadata": {
  "kernelspec": {
   "display_name": "Python [conda env:base] *",
   "language": "python",
   "name": "conda-base-py"
  },
  "language_info": {
   "codemirror_mode": {
    "name": "ipython",
    "version": 3
   },
   "file_extension": ".py",
   "mimetype": "text/x-python",
   "name": "python",
   "nbconvert_exporter": "python",
   "pygments_lexer": "ipython3",
   "version": "3.13.5"
  }
 },
 "nbformat": 4,
 "nbformat_minor": 5
}
